{
 "cells": [
  {
   "cell_type": "code",
   "execution_count": 2,
   "id": "8b5fa818",
   "metadata": {},
   "outputs": [],
   "source": [
    "# Importing Library\n",
    "import cv2\n",
    "\n",
    "# Starting the videoCapture\n",
    "cap = cv2.VideoCapture(0)\n",
    "\n",
    "# importing classifier\n",
    "classifier = cv2.CascadeClassifier('haarcascade_classifier.xml')\n",
    "\n",
    "while True:\n",
    "    \n",
    "    ret, image = cap.read()\n",
    "    \n",
    "    if ret:\n",
    "        \n",
    "        faces = classifier.detectMultiScale(image)\n",
    "        \n",
    "        for face in faces:\n",
    "            \n",
    "            x,y,w,h = face\n",
    "            image = cv2.rectangle(image,(x,y), (x+w, y+h),(255, 0, 0),5)\n",
    "            cv2.imshow(\"My Window\", image)\n",
    "    \n",
    "    key = cv2.waitKey(1)\n",
    "    \n",
    "    if key == ord('q'):\n",
    "        break\n",
    "        \n",
    "    if key == ord('c'):\n",
    "        cv2.imwrite(\"saikiran_it.png\", image)\n",
    "\n",
    "cap.release()\n",
    "cv2.destroyAllWindows()\n",
    "    \n",
    "    \n",
    "    "
   ]
  },
  {
   "cell_type": "code",
   "execution_count": null,
   "id": "03820065",
   "metadata": {},
   "outputs": [],
   "source": []
  }
 ],
 "metadata": {
  "kernelspec": {
   "display_name": "Python 3",
   "language": "python",
   "name": "python3"
  },
  "language_info": {
   "codemirror_mode": {
    "name": "ipython",
    "version": 3
   },
   "file_extension": ".py",
   "mimetype": "text/x-python",
   "name": "python",
   "nbconvert_exporter": "python",
   "pygments_lexer": "ipython3",
   "version": "3.8.8"
  }
 },
 "nbformat": 4,
 "nbformat_minor": 5
}
